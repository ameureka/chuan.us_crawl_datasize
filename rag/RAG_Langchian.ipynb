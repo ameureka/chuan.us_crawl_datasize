{
 "cells": [
  {
   "cell_type": "code",
   "execution_count": null,
   "metadata": {},
   "outputs": [],
   "source": [
    "# 选择对应的文本切分器，如果是通用文本的话，建议选择RecursiveCharacterTextSplitter，代码如下：\n",
    "from langchain.document_loaders import UnstructuredFileLoader\n",
    "from langchain.text_splitter import RecursiveCharacterTextSplitter\n",
    "\n",
    "# 导入文本\n",
    "loader = UnstructuredFileLoader(\"./data/news_test.txt\")\n",
    "# 将文本转成 Document 对象\n",
    "data = loader.load()\n",
    "print(f'documents:{len(data)}')\n",
    "\n",
    "# 初始化加载器\n",
    "text_splitter = RecursiveCharacterTextSplitter(chunk_size=100, chunk_overlap=0)\n",
    "# 切割加载的 document\n",
    "split_docs = text_splitter.split_documents(data)\n",
    "print(\"split_docs size:\",len(split_docs))\n",
    "\n",
    "# chunk_size：每一个分片的最大大小\n",
    "\n",
    "# chunk_overlap：相邻的块之间的最大重叠。有一些重叠可以很好地保持块之间的一些连续性（类似于一个滑动窗口）。"
   ]
  },
  {
   "cell_type": "markdown",
   "metadata": {},
   "source": [
    "#生成embedding"
   ]
  },
  {
   "cell_type": "code",
   "execution_count": null,
   "metadata": {},
   "outputs": [],
   "source": [
    "# 直接使用OpenAIEmbeddings来生成Embedding数据\n",
    "from langchain.text_splitter import RecursiveCharacterTextSplitter\n",
    "from langchain import VectorDBQA\n",
    "from langchain.document_loaders import UnstructuredMarkdownLoader\n",
    "from langchain.embeddings.openai import OpenAIEmbeddings\n",
    "import IPython\n",
    "import os\n",
    "from dotenv import load_dotenv\n",
    "load_dotenv()\n",
    "\n",
    "os.environ[\"OPENAI_API_KEY\"] = os.getenv(\"OPENAI_API_KEY\")\n",
    "os.environ[\"OPENAI_API_BASE\"] = os.getenv(\"OPENAI_API_BASE\")\n",
    "\n",
    "embeddings = OpenAIEmbeddings( )"
   ]
  },
  {
   "cell_type": "code",
   "execution_count": null,
   "metadata": {},
   "outputs": [],
   "source": [
    "# 使用HuggingFaceEmbeddings来生成Embedding数据\n",
    "from langchain.vectorstores import Chroma\n",
    "from langchain.embeddings.huggingface import HuggingFaceEmbeddings\n",
    "import IPython\n",
    "import sentence_transformers\n",
    "\n",
    "\n",
    "embedding_model_dict = {\n",
    "    \"ernie-tiny\": \"nghuyong/ernie-3.0-nano-zh\",\n",
    "    \"ernie-base\": \"nghuyong/ernie-3.0-base-zh\",\n",
    "    \"text2vec\": \"GanymedeNil/text2vec-large-chinese\",\n",
    "    \"text2vec2\":\"uer/sbert-base-chinese-nli\",\n",
    "    \"text2vec3\":\"shibing624/text2vec-base-chinese\",\n",
    "}\n",
    "\n",
    "EMBEDDING_MODEL = \"text2vec3\"\n",
    "# 初始化 hugginFace 的 embeddings 对象\n",
    "embeddings = HuggingFaceEmbeddings(model_name=embedding_model_dict[EMBEDDING_MODEL], )\n",
    "embeddings.client = sentence_transformers.SentenceTransformer(\n",
    "        embeddings.model_name, device='mps')"
   ]
  },
  {
   "cell_type": "markdown",
   "metadata": {},
   "source": [
    "两种方式的差别：\n",
    "\n",
    "OpenAIEmbeddings：\n",
    "\n",
    "使用简单，并且效果比较好；\n",
    "\n",
    "会消耗openai的token，特别是大段文本时，消耗的token还不少，如果知识库是比较固定的，可以考虑将每次生成的embedding做持久化，这样就不需要再调用openai了，可以大大节约token的消耗；\n",
    "\n",
    "可能会有数据泄露的风险，如果是一些高度私密的数据，不建议直接调用。\n",
    "\n",
    "HuggingFaceEmbeddings：\n",
    "\n",
    "可以在HuggingFace上面选择各种sentence-similarity模型来进行实验，数据都是在本机上进行计算\n",
    "\n",
    "需要一定的硬件支持，最好是有GPU支持，不然生成数据可能会非常慢\n",
    "\n",
    "生成的向量效果可能不是很好，并且HuggingFace上的中文向量模型不是很多。"
   ]
  },
  {
   "cell_type": "code",
   "execution_count": null,
   "metadata": {},
   "outputs": [],
   "source": [
    "# 保存Embedding数据\n",
    "# 有多种向量数据库选择，这里选择比较简单的Chroma,因为比较轻量，直接安装库就可使用。\n",
    "from langchain.vectorstores import Chroma\n",
    "# 初始化加载器\n",
    "db = Chroma.from_documents(split_docs, embeddings,persist_directory=\"./chroma/openai/news_test\")\n",
    "# 持久化\n",
    "db.persist()\n",
    "\n",
    "# 持久化后，可以直接选择从持久化文件中加载，不需要再重新就可使用了，使用方式如下：\n",
    "db = Chroma(persist_directory=\"./chroma/news_test\", embedding_function=embeddings)\n"
   ]
  },
  {
   "cell_type": "code",
   "execution_count": null,
   "metadata": {},
   "outputs": [],
   "source": [
    "# 如果只想使用embedding来计算句子的相似度，可以直接类似下面这样使用：\n",
    "# 初始化 prompt 对象\n",
    "question = \"2022年腾讯营收多少\"\n",
    "\n",
    "similarDocs = db.similarity_search(question, include_metadata=True,k=4)\n",
    "\n",
    "[print(x) for x in similarDocs]\n",
    "\n",
    "# 最多返回匹配的前4条相似度最高的句子"
   ]
  },
  {
   "cell_type": "code",
   "execution_count": null,
   "metadata": {},
   "outputs": [],
   "source": [
    "# 如果想接入ChatGLM来帮忙做总结和汇总的话，可以如下使用：\n",
    "from langchain.chains import RetrievalQA\n",
    "import IPython\n",
    "\n",
    "retriever = db.as_retriever()\n",
    "qa = RetrievalQA.from_chain_type(llm=ChatGLM(temperature=0.1), chain_type=\"stuff\", retriever=retriever)\n",
    "# 进行问答\n",
    "query = \"2022年腾讯营收多少\"\n",
    "print(qa.run(query))\n",
    "\n",
    "\n",
    "# 本文使用LangChain+ChatGLM来实现一个简单的基于本地知识库的问答系统，可以在完全不使用openai提供的api来完成本地知识库问答系统的搭建，\n",
    "# 如果有需要做本地私有化知识库问答系统的"
   ]
  }
 ],
 "metadata": {
  "kernelspec": {
   "display_name": "unsloth",
   "language": "python",
   "name": "python3"
  },
  "language_info": {
   "codemirror_mode": {
    "name": "ipython",
    "version": 3
   },
   "file_extension": ".py",
   "mimetype": "text/x-python",
   "name": "python",
   "nbconvert_exporter": "python",
   "pygments_lexer": "ipython3",
   "version": "3.11.11"
  }
 },
 "nbformat": 4,
 "nbformat_minor": 2
}
